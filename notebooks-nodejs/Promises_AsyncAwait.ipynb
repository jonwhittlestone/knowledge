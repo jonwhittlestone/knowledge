{
 "cells": [
  {
   "cell_type": "markdown",
   "metadata": {},
   "source": [
    "# Promises and AsyncAwait\n",
    "\n",
    "\n",
    "## Reading material\n",
    "\n",
    "Promises - https://hackernoon.com/understanding-promises-in-javascript-13d99df067c1\n",
    "\n",
    "### Promises\n",
    "\n"
   ]
  },
  {
   "cell_type": "code",
   "execution_count": 1,
   "metadata": {},
   "outputs": [
    {
     "name": "stdout",
     "output_type": "stream",
     "text": [
      "Promise { <pending> }\n"
     ]
    }
   ],
   "source": [
    "promise2 = new Promise(function(resolve, reject) {\n",
    "  setTimeout(function() {\n",
    "    resolve({\n",
    "      message: \"The man likes to keep his word\",\n",
    "      code: \"aManKeepsHisWord\"\n",
    "    });\n",
    "  }, 10 * 1000);\n",
    "});\n",
    "console.log(promise2);"
   ]
  },
  {
   "cell_type": "code",
   "execution_count": 2,
   "metadata": {},
   "outputs": [
    {
     "name": "stdout",
     "output_type": "stream",
     "text": [
      "Promise {\n",
      "  { message: 'The man likes to keep his word',\n",
      "    code: 'aManKeepsHisWord' } }\n"
     ]
    }
   ],
   "source": [
    "console.log(promise2)"
   ]
  },
  {
   "cell_type": "code",
   "execution_count": null,
   "metadata": {},
   "outputs": [],
   "source": []
  }
 ],
 "metadata": {
  "kernelspec": {
   "display_name": "Javascript (Node.js)",
   "language": "javascript",
   "name": "javascript"
  },
  "language_info": {
   "file_extension": ".js",
   "mimetype": "application/javascript",
   "name": "javascript",
   "version": "10.13.0"
  }
 },
 "nbformat": 4,
 "nbformat_minor": 2
}
