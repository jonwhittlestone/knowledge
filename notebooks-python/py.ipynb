{
 "cells": [
  {
   "cell_type": "markdown",
   "metadata": {},
   "source": [
    "\n",
    "# Python Correctness #\n",
    "\n",
    "## Syntax Comparison ##\n",
    "\n",
    "- [Programming Idioms](https://www.programming-idioms.org/)\n",
    "\n",
    "## Articles ##\n",
    "\n",
    "- [10 Most Common Mistakes [Pocket]](https://app.getpocket.com/read/613114808)\n",
    "- [8 Python Antipatterns [Pocket]](https://app.getpocket.com/read/613114808)\n",
    "\n",
    "## Courses ##\n",
    "\n",
    "- [Video course on Enterprise Python [Plex - MyCloud]](http://localhost:32400/web/index.html#!/server/bc0049189e861dd58c943d9c7307957a899ce527?key=%2Flibrary%2Fsections%2F21&folderKey=%2Flibrary%2Fsections%2F21%2Ffolder%3Fparent%3D7803&folderTitle=EnterprisePython&parentFolderKey=%2Flibrary%2Fsections%2F21%2Ffolder&parentFolderTitle=Learn)"
   ]
  },
  {
   "cell_type": "code",
   "execution_count": null,
   "metadata": {},
   "outputs": [],
   "source": []
  }
 ],
 "metadata": {
  "kernelspec": {
   "display_name": "Python 3",
   "language": "python",
   "name": "python3"
  },
  "language_info": {
   "codemirror_mode": {
    "name": "ipython",
    "version": 3
   },
   "file_extension": ".py",
   "mimetype": "text/x-python",
   "name": "python",
   "nbconvert_exporter": "python",
   "pygments_lexer": "ipython3",
   "version": "3.6.7"
  }
 },
 "nbformat": 4,
 "nbformat_minor": 2
}
