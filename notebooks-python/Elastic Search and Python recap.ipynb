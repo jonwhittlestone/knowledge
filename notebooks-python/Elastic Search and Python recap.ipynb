{
 "cells": [
  {
   "cell_type": "markdown",
   "metadata": {},
   "source": [
    "# Elastic Search / Python Recap #\n",
    "\n",
    "- Pycon 2018 Class\n",
    "\n",
    "    https://www.youtube.com/watch?v=6_P_h2bDwYs\n",
    "    \n",
    "\n",
    "- Class workalong repo:\n",
    "\n",
    "    https://github.com/julieqiu/pycon-2018-pyelasticsearch/blob/master/lesson/Lesson0_Prerequisites.md\n",
    "    \n",
    "\n",
    "- Class code repo\n",
    "      https://github.com/julieqiu/pycon-2018-pyelasticsearch/\n",
    "    \n",
    "\n",
    "- Dockerized environment\n",
    "\n",
    "    https://github.com/jonwhittlestone/python-es-kibana\n",
    "    \n",
    "\n"
   ]
  }
 ],
 "metadata": {
  "kernelspec": {
   "display_name": "venv",
   "language": "python",
   "name": "venv"
  },
  "language_info": {
   "codemirror_mode": {
    "name": "ipython",
    "version": 3
   },
   "file_extension": ".py",
   "mimetype": "text/x-python",
   "name": "python",
   "nbconvert_exporter": "python",
   "pygments_lexer": "ipython3",
   "version": "3.6.7"
  }
 },
 "nbformat": 4,
 "nbformat_minor": 2
}
