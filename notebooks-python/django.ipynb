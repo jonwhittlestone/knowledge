{
 "cells": [
  {
   "cell_type": "markdown",
   "metadata": {},
   "source": [
    "# Running Django in this Jupyter notebook #\n",
    "\n",
    "\n",
    "From: https://medium.com/@eleroy/using-django-in-jupyter-notebook-5f09073878bb\n",
    "\n",
    "\n",
    "Then in terminal:\n",
    "\n",
    "\n",
    "```\n",
    "$ source venv/bin/activate    # ~/knowledge/notebooks-python/venv\n",
    "\n",
    "# run only once\n",
    "$ django-admin startproject app\n",
    "$ django-admin startapp polls\n",
    "```\n",
    "\n"
   ]
  },
  {
   "cell_type": "code",
   "execution_count": 17,
   "metadata": {},
   "outputs": [],
   "source": [
    "import os\n",
    "\n",
    "# this environment variable points to the 'settings' module \n",
    "# in the Django app.\n",
    "os.environ.setdefault(\"DJANGO_SETTINGS_MODULE\", \"app.settings\")\n",
    "\n",
    "# maybe not be necessary if you hard coded you DB URL in settings, \n",
    "# but mine it pulled from the DATABASE_URL environment variable\n",
    "#os.environ.setdefault(\"DATABASE_URL\", \n",
    "#\"postgres://localhost:5432/db\")\n",
    "\n",
    "# and then...\n",
    "import django\n",
    "#django.setup()"
   ]
  }
 ],
 "metadata": {
  "kernelspec": {
   "display_name": "venv",
   "language": "python",
   "name": "venv"
  },
  "language_info": {
   "codemirror_mode": {
    "name": "ipython",
    "version": 3
   },
   "file_extension": ".py",
   "mimetype": "text/x-python",
   "name": "python",
   "nbconvert_exporter": "python",
   "pygments_lexer": "ipython3",
   "version": "3.6.7"
  }
 },
 "nbformat": 4,
 "nbformat_minor": 2
}
