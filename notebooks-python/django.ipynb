{
 "cells": [
  {
   "cell_type": "markdown",
   "metadata": {},
   "source": [
    "# Django Learnings/Recap #\n",
    "\n",
    "## Running Django in this Jupyter notebook ##\n",
    "\n",
    "\n",
    "From: https://medium.com/@eleroy/using-django-in-jupyter-notebook-5f09073878bb\n",
    "\n",
    "\n",
    "Then in terminal:\n",
    "\n",
    "\n",
    "```\n",
    "$ source venv/bin/activate    # ~/knowledge/notebooks-python/venv\n",
    "\n",
    "# run only once\n",
    "$ django-admin startproject app\n",
    "$ django-admin startapp polls\n",
    "```\n",
    "\n"
   ]
  },
  {
   "cell_type": "code",
   "execution_count": 2,
   "metadata": {},
   "outputs": [],
   "source": [
    "import os\n",
    "\n",
    "# this environment variable points to the 'settings' module \n",
    "# in the Django app.\n",
    "os.environ.setdefault(\"DJANGO_SETTINGS_MODULE\", \"app.settings\")\n",
    "\n",
    "# maybe not be necessary if you hard coded you DB URL in settings, \n",
    "# but mine it pulled from the DATABASE_URL environment variable\n",
    "#os.environ.setdefault(\"DATABASE_URL\", \n",
    "#\"postgres://localhost:5432/db\")\n",
    "\n",
    "# and then...\n",
    "import django\n",
    "#django.setup()"
   ]
  },
  {
   "cell_type": "markdown",
   "metadata": {},
   "source": [
    "## Django Dev to Deployment -  Course ##\n",
    "\n",
    "- [Udemy Course Contents](https://www.udemy.com/python-django-dev-to-deployment/?couponCode=TRAVERSYMEDIA)\n",
    "- [Plex on madebyjon](http://localhost:32400/web/index.html#!/server/f145ece5cbe45ac49c5ab58bd08851b4f312c16b?key=%2Flibrary%2Fsections%2F9)\n",
    "\n",
    "\n"
   ]
  },
  {
   "cell_type": "markdown",
   "metadata": {},
   "source": [
    "## Django <2 Core Reference - Course ##\n",
    "\n",
    "- [Udemy Course Contents](https://www.udemy.com/django-core/)\n",
    "- [Plex videos on madebyjon](http://localhost:32400/web/index.html#!/server/f145ece5cbe45ac49c5ab58bd08851b4f312c16b?key=%2Flibrary%2Fsections%2F10)\n",
    "\n",
    "\n",
    "- Section 1 | Function-based views\n",
    "    - [Docs Intro](http://www.google.com)\n",
    "    - [End of section video](http://localhost:32400/web/index.html#!/server/f145ece5cbe45ac49c5ab58bd08851b4f312c16b?key=%2Flibrary%2Fsections%2F10)\n",
    "\n",
    "\n",
    "- Section 2 | Models\n",
    "    - [Docs Intro](https://docs.djangoproject.com/en/1.10/topics/db/models/)\n",
    "    - [Docs - Queries](https://docs.djangoproject.com/en/2.2/topics/db/queries/)\n",
    "    - [End of section video](http://localhost:32400/web/index.html#!/server/f145ece5cbe45ac49c5ab58bd08851b4f312c16b?key=%2Flibrary%2Fsections%2F10)\n",
    "    \n",
    "    \n",
    "- Section 3 | Class Based Views\n",
    "    - [Docs Intro](https://docs.djangoproject.com/en/2.2/ref/class-based-views/)\n",
    "    - [End of section video](http://localhost:32400/web/index.html#!/server/f145ece5cbe45ac49c5ab58bd08851b4f312c16b?key=%2Flibrary%2Fsections%2F10)\n",
    "\n",
    "\n"
   ]
  },
  {
   "cell_type": "code",
   "execution_count": null,
   "metadata": {},
   "outputs": [],
   "source": []
  }
 ],
 "metadata": {
  "kernelspec": {
   "display_name": "venv",
   "language": "python",
   "name": "venv"
  },
  "language_info": {
   "codemirror_mode": {
    "name": "ipython",
    "version": 3
   },
   "file_extension": ".py",
   "mimetype": "text/x-python",
   "name": "python",
   "nbconvert_exporter": "python",
   "pygments_lexer": "ipython3",
   "version": "3.6.7"
  }
 },
 "nbformat": 4,
 "nbformat_minor": 2
}
