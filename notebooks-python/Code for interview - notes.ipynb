{
 "cells": [
  {
   "cell_type": "markdown",
   "metadata": {},
   "source": [
    "# Python Code for Interview - Notes\n",
    "\n",
    "Reference: [Real Python Article](https://bit.ly/2WQQi55)\n",
    "\n"
   ]
  },
  {
   "cell_type": "code",
   "execution_count": 3,
   "metadata": {},
   "outputs": [
    {
     "name": "stdout",
     "output_type": "stream",
     "text": [
      "My name is Jon and I'm 2.80000 decades old\n"
     ]
    }
   ],
   "source": [
    "# Format strings with f-strings, if using > Python 3.6\n",
    "\n",
    "name = 'Jon'\n",
    "age = 28\n",
    "\n",
    "print(f\"My name is {name} and I'm {age / 10:.5f} decades old\")"
   ]
  },
  {
   "cell_type": "code",
   "execution_count": 11,
   "metadata": {},
   "outputs": [
    {
     "name": "stdout",
     "output_type": "stream",
     "text": [
      "['Mike', 'Matt', 'Lisa', 'Jonny', 'Jon']\n"
     ]
    }
   ],
   "source": [
    "# use a list comprehension to capitalise and then sorted()\n",
    "\n",
    "visitors = ['jon', 'lisa', 'jonny', 'mike', 'matt']\n",
    "\n",
    "visitors_reversed = sorted(\n",
    "    [x.title() for x in visitors if x],\n",
    "    reverse=True\n",
    ")\n",
    "\n",
    "\n",
    "print(visitors_reversed)"
   ]
  }
 ],
 "metadata": {
  "kernelspec": {
   "display_name": "Python 3",
   "language": "python",
   "name": "python3"
  },
  "language_info": {
   "codemirror_mode": {
    "name": "ipython",
    "version": 3
   },
   "file_extension": ".py",
   "mimetype": "text/x-python",
   "name": "python",
   "nbconvert_exporter": "python",
   "pygments_lexer": "ipython3",
   "version": "3.6.7"
  }
 },
 "nbformat": 4,
 "nbformat_minor": 2
}
