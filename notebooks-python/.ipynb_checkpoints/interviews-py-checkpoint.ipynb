{
 "cells": [
  {
   "cell_type": "markdown",
   "metadata": {},
   "source": [
    "# Interview Post-mortems #\n"
   ]
  },
  {
   "cell_type": "markdown",
   "metadata": {},
   "source": [
    "## 08/04/19 - London Bridge ##\n",
    "\n",
    "Q. _Are you a team-player?_\n",
    "\n",
    "I'm used to working in multi-disciplinary teams. \n",
    "\n",
    "Others would consider me resourceful and respectful that will ask others advice on solutions. \n",
    "\n",
    "For 'downstream' and user-centred stories, I will consult frontend developers if necessary. If data related, I bring up questions with data providers. This could be in a standup, or I'd request a one-on-one chat.\n",
    "\n",
    "I'm a strong believer that team sucess relies on importance of joint-ego rather than individual ego.\n",
    "\n",
    "---\n",
    "\n",
    "\n",
    "Q. _I'm looking for a passionate person that stands up for the their belief in their solutions. How do you persuade?_\n",
    "\n",
    "I believe in persuading with data. This may be through software logging speed metrics.\n",
    "\n",
    "In person communication is important so presenting your case at a standup for example.\n",
    "\n",
    "Also in a code review disagreement, I'd much rather discuss in person that endless comments on github.\n",
    "\n",
    "---\n",
    "    \n",
    "\n",
    "Q. _Agile teams/SCRUM, is that how you like to work?_\n",
    "\n",
    "I believe in the power of frequent demos. This means always leaving a product in a working state.\n",
    "\n",
    "---\n",
    "\n",
    "Q. _Would you be learning on the job__ \n",
    "\n",
    "All types of development work involving learning on the job but I would in terms of learning the domain knowledge necessary for this project.\n",
    "\n",
    "Now I have more detail on the poeject, I like to prepare some example applications with any libraries with which I'm not familiar\n",
    "\n",
    "----\n",
    "\n",
    "\n",
    "Q. _What experience have you had of fine-tuning ES results based on different fields?_\n",
    "\n",
    "In Project X, I did ..\n",
    "\n",
    "\n",
    "Q. _Given two words, write an algorithm to determine whether one is an anagram of the other_"
   ]
  },
  {
   "cell_type": "code",
   "execution_count": 2,
   "metadata": {},
   "outputs": [
    {
     "name": "stdout",
     "output_type": "stream",
     "text": [
      "True\n",
      "False\n"
     ]
    }
   ],
   "source": [
    "# Input : s1 = \"listen\"\n",
    "# s2 = \"silent\"\n",
    "# Output : The strings are anagrams.\n",
    "#\n",
    "#\n",
    "# Input : s1 = \"dad\"\n",
    "# s2 = \"bad\"\n",
    "# Output : The strings aren't anagrams.\n",
    "\n",
    "def is_anagram(str1, str2):\n",
    "    list_str1 = list(str1)\n",
    "    list_str1.sort()\n",
    "    list_str2 = list(str2)\n",
    "    list_str2.sort()\n",
    "\n",
    "    return (list_str1 == list_str2)\n",
    "\n",
    "print(is_anagram('anagram','nagaram'))\n",
    "print(is_anagram('cat','rat'))\n"
   ]
  }
 ],
 "metadata": {
  "kernelspec": {
   "display_name": "Python 3",
   "language": "python",
   "name": "python3"
  },
  "language_info": {
   "codemirror_mode": {
    "name": "ipython",
    "version": 3
   },
   "file_extension": ".py",
   "mimetype": "text/x-python",
   "name": "python",
   "nbconvert_exporter": "python",
   "pygments_lexer": "ipython3",
   "version": "3.6.7"
  }
 },
 "nbformat": 4,
 "nbformat_minor": 2
}
