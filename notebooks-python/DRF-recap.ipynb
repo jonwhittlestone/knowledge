{
 "cells": [
  {
   "cell_type": "markdown",
   "metadata": {},
   "source": [
    "# DRF Recap #\n",
    "\n",
    "\n",
    "\n",
    "Course URL: https://bit.ly/2WIbM3R\n",
    "\n",
    "Repo URL: https://github.com/jonwhittlestone/djangorestframework-recipe\n",
    "\n",
    "👆️ 👆️ See steps in commit messages for more detail than this page 👆️ 👆️\n",
    "\n",
    "Finished repo: https://bit.ly/2WHRDe8\n",
    "\n",
    "---\n",
    "\n",
    "Section 1: Intro\n",
    "\n",
    "Section 2: Tech Used\n",
    "\n",
    "Section 3: Installation & Setup\n",
    "\n",
    "Section 4: Create a new project\n",
    "\n",
    "Section 5: Setup Automation\n",
    "\n",
    "Section 6: TDD intro\n",
    "\n",
    "Section 7: Configure Django customer user model\n",
    "\n",
    "Section 8: Setup Django Admin\n",
    "\n",
    "Section 9: Setting up Database\n",
    "\n",
    "Section 10: Waiting for Postgres\n",
    "\n",
    "Section 11: User Management endpoints\n",
    "\n",
    "Section 12: Create Tags Endpoint\n",
    "\n",
    "Section 13: Ingredients Endpoint\n",
    "\n",
    "Section 14: Recipe Endpoint\n",
    "\n",
    "Section 15: Filtering\n",
    "\n",
    "Section 16: Summary\n",
    "\n"
   ]
  },
  {
   "cell_type": "markdown",
   "metadata": {},
   "source": [
    "## Section 02 Tech Used ##\n",
    "\n",
    "### 02.12. What is TDD ###\n",
    "\n",
    "Stages - arrange/act/assert\n",
    "\n",
    "or\n",
    "\n",
    "1. Setup (create sample db objects)\n",
    "2. Execution (call the code)\n",
    "3. Assertions (confirm expected output)\n",
    "---"
   ]
  },
  {
   "cell_type": "markdown",
   "metadata": {},
   "source": [
    "...\n",
    "\n",
    "## Section 04 Create new project ##\n",
    "\n",
    "\n",
    "### 04.16 - Add Dockerfile ###\n",
    "\n",
    "- For security purposes, add a user to run the application rather than `root`\n",
    "\n",
    "    ```\n",
    "    FROM python:3.7-alpine\n",
    "    LABEL author=\"Howapped Ltd\"\n",
    "\n",
    "    ENV PYTHONUNBUFFERED 1\n",
    "    COPY ./requirements.txt /requirements.txt\n",
    "    RUN pip install -r /requirements.txt\n",
    "\n",
    "    RUN mkdir /app\n",
    "    WORKDIR /app\n",
    "    COPY ./app /app\n",
    "\n",
    "    RUN adduser -D user\n",
    "    USER user\n",
    "    ```\n",
    "\n",
    "- Then run `docker build .`\n",
    "\n",
    "\n",
    "### 04.17 Docker Compose configuration ###\n",
    "\n",
    "\n",
    "### 04.18 Create Django project ###\n",
    "\n",
    "- `docker-compose run app sh -c \"django-admin.py start project app .\"`\n"
   ]
  },
  {
   "cell_type": "markdown",
   "metadata": {},
   "source": [
    "## Section 05 Setup automation ##\n",
    "\n",
    "### 05.19 Enable Travis-CI ###\n",
    "\n",
    "..."
   ]
  },
  {
   "cell_type": "markdown",
   "metadata": {},
   "source": [
    "## Section 06 Intro to TDD ##\n",
    "\n",
    "### 06.21 Writing a simple unit test ###\n",
    "\n",
    "- workflow - fail -> write test etc\n",
    "- Django searches for functions beginning with 'test' in modules that begin with 'test'"
   ]
  },
  {
   "cell_type": "markdown",
   "metadata": {},
   "source": [
    "## Section 07 Configure custom user model ##\n",
    "\n",
    "### 07.23 Create core app ###\n",
    "\n",
    "- `docker-compose run app sh -c \"django-admin.py startapp core\"`\n",
    "\n",
    "\n",
    "\n",
    "\n",
    "### 07.24 Add tests for custom user model ###\n",
    "\n",
    "### 07.25 Implement Custom User model ###\n",
    "- `** extra_fields` === `**kwargs` special variables used in method signature (see `models.py` method: `create_user()`)\n"
   ]
  },
  {
   "cell_type": "markdown",
   "metadata": {},
   "source": [
    "## Section 08 - Add Postgres Support ##\n",
    "\n",
    "## ... ##"
   ]
  },
  {
   "cell_type": "markdown",
   "metadata": {},
   "source": [
    "## Section 09 - Waiting for Postgres to start  (mocking) ##\n",
    "\n",
    "\n",
    "### 09.37 - Add tests for `wait_for_db` command ###\n",
    "\n",
    "- override the behaviour of the connection handler\n",
    "- if return True, the management command will allow us to continue with the execution flow\n",
    "- else if may return an `OperationalError`\n",
    "\n",
    "\n",
    "- mock `django.db.utils.ConnectionHandler.__getitem__`\n",
    "    - docs: https://docs.python.org/3/library/unittest.mock.html\n",
    "    - the `@patch` decorator executes patch by passing it into to the method\n",
    "    \n",
    "    \n",
    "- writing the management command \n",
    "    - Django command to pause execution until database is available\n",
    "    - see docs: https://docs.djangoproject.com/en/2.1/howto/custom-management-commands/#module-django.core.management\n",
    "\n",
    "\n",
    "## ... ##"
   ]
  },
  {
   "cell_type": "markdown",
   "metadata": {},
   "source": [
    "## Section 10 - Set up postgres ##\n",
    "\n",
    "\n",
    "### 09.33 - 09.35 ###\n",
    "\n",
    "- see commit for adding to service to docker-compose and django\n",
    "    - \n",
    "\n",
    "## ... ##\n"
   ]
  },
  {
   "cell_type": "markdown",
   "metadata": {},
   "source": [
    "## Section 11 - Waiting for Postgres to start  (mocking) ##\n",
    "\n",
    "\n",
    "### 09.37 - Add tests for `wait_for_db` command ###\n",
    "\n",
    "- override the behaviour of the connection handler\n",
    "- if return True, the management command will allow us to continue with the execution flow\n",
    "- else if may return an `OperationalError`\n",
    "\n",
    "\n",
    "- mock `django.db.utils.ConnectionHandler.__getitem__`\n",
    "    - docs: https://docs.python.org/3/library/unittest.mock.html\n",
    "    - the `@patch` decorator executes patch by passing it into to the method\n",
    "    \n",
    "    \n",
    "- writing the management command \n",
    "    - Django command to pause execution until database is available\n",
    "    - see docs: https://docs.djangoproject.com/en/2.1/howto/custom-management-commands/#module-django.core.management\n",
    "\n",
    "\n",
    "## ... ##\n"
   ]
  },
  {
   "cell_type": "markdown",
   "metadata": {},
   "source": [
    "## Section 16 Add filtering ##\n",
    "\n",
    "...\n",
    "\n",
    "\n",
    "### 16.73 Implement feature for filtering tags and ingredients ###\n",
    "\n"
   ]
  }
 ],
 "metadata": {
  "kernelspec": {
   "display_name": "Python 3",
   "language": "python",
   "name": "python3"
  },
  "language_info": {
   "codemirror_mode": {
    "name": "ipython",
    "version": 3
   },
   "file_extension": ".py",
   "mimetype": "text/x-python",
   "name": "python",
   "nbconvert_exporter": "python",
   "pygments_lexer": "ipython3",
   "version": "3.6.7"
  }
 },
 "nbformat": 4,
 "nbformat_minor": 2
}
